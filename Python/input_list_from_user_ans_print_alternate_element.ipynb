{
  "nbformat": 4,
  "nbformat_minor": 0,
  "metadata": {
    "colab": {
      "provenance": [],
      "authorship_tag": "ABX9TyN1osaDC1IfcsoiOFAEkfiC",
      "include_colab_link": true
    },
    "kernelspec": {
      "name": "python3",
      "display_name": "Python 3"
    },
    "language_info": {
      "name": "python"
    }
  },
  "cells": [
    {
      "cell_type": "markdown",
      "metadata": {
        "id": "view-in-github",
        "colab_type": "text"
      },
      "source": [
        "<a href=\"https://colab.research.google.com/github/Shalakabobade/Python/blob/main/Python/input_list_from_user_ans_print_alternate_element.ipynb\" target=\"_parent\"><img src=\"https://colab.research.google.com/assets/colab-badge.svg\" alt=\"Open In Colab\"/></a>"
      ]
    },
    {
      "cell_type": "markdown",
      "source": [
        "## input list from user ans print alternate element\n"
      ],
      "metadata": {
        "id": "0oyrZh73gHrZ"
      }
    },
    {
      "cell_type": "code",
      "source": [
        "l=[]\n",
        "n=int(input(\"enter size of elements\"))\n",
        "for x in range (0,n):\n",
        " ele=int(input())\n",
        " l.append(ele)\n",
        "print(l)   #actual list entered by user\n",
        "for x in range (0,n,2):   #printing alternate elements\n",
        " print(l[x])"
      ],
      "metadata": {
        "colab": {
          "base_uri": "https://localhost:8080/"
        },
        "id": "f-WLqwjvgM9g",
        "outputId": "c5d38a0e-f3a2-4695-e835-716fd250ad6e"
      },
      "execution_count": 15,
      "outputs": [
        {
          "output_type": "stream",
          "name": "stdout",
          "text": [
            "enter size of elements5\n",
            "5\n",
            "8\n",
            "1\n",
            "6\n",
            "3\n",
            "[5, 8, 1, 6, 3]\n",
            "5\n",
            "1\n",
            "3\n"
          ]
        }
      ]
    }
  ]
}