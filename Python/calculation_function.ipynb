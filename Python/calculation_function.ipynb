{
  "nbformat": 4,
  "nbformat_minor": 0,
  "metadata": {
    "colab": {
      "provenance": [],
      "authorship_tag": "ABX9TyNFvBJVYc7bcdc3YDKKS/Rz",
      "include_colab_link": true
    },
    "kernelspec": {
      "name": "python3",
      "display_name": "Python 3"
    },
    "language_info": {
      "name": "python"
    }
  },
  "cells": [
    {
      "cell_type": "markdown",
      "metadata": {
        "id": "view-in-github",
        "colab_type": "text"
      },
      "source": [
        "<a href=\"https://colab.research.google.com/github/Shalakabobade/Python/blob/main/Python/calculation_function.ipynb\" target=\"_parent\"><img src=\"https://colab.research.google.com/assets/colab-badge.svg\" alt=\"Open In Colab\"/></a>"
      ]
    },
    {
      "cell_type": "markdown",
      "source": [
        "## calculation function\n"
      ],
      "metadata": {
        "id": "0oyrZh73gHrZ"
      }
    },
    {
      "cell_type": "code",
      "source": [
        "def calculation(a,b): #creating function\n",
        "  calculation=a-b\n",
        "  calculation=a+b\n",
        "  calculation=a%b\n",
        "  return a-b,a+b,a%b\n",
        "print(calculation(10,5))\n",
        "print()\n",
        "\n",
        "calculation(9,5) #calling a funtion\n",
        "\n"
      ],
      "metadata": {
        "colab": {
          "base_uri": "https://localhost:8080/"
        },
        "id": "f-WLqwjvgM9g",
        "outputId": "2cdbcfcb-b172-4bec-9c80-113717766230"
      },
      "execution_count": 7,
      "outputs": [
        {
          "output_type": "stream",
          "name": "stdout",
          "text": [
            "(5, 15, 0)\n",
            "\n"
          ]
        },
        {
          "output_type": "execute_result",
          "data": {
            "text/plain": [
              "(4, 14, 4)"
            ]
          },
          "metadata": {},
          "execution_count": 7
        }
      ]
    }
  ]
}