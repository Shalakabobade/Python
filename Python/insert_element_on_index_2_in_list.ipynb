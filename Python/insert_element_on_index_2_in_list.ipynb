{
  "nbformat": 4,
  "nbformat_minor": 0,
  "metadata": {
    "colab": {
      "provenance": [],
      "authorship_tag": "ABX9TyNWYuA6TZVRkznCYxmoNwJb",
      "include_colab_link": true
    },
    "kernelspec": {
      "name": "python3",
      "display_name": "Python 3"
    },
    "language_info": {
      "name": "python"
    }
  },
  "cells": [
    {
      "cell_type": "markdown",
      "metadata": {
        "id": "view-in-github",
        "colab_type": "text"
      },
      "source": [
        "<a href=\"https://colab.research.google.com/github/Shalakabobade/Python/blob/main/Python/insert_element_on_index_2_in_list.ipynb\" target=\"_parent\"><img src=\"https://colab.research.google.com/assets/colab-badge.svg\" alt=\"Open In Colab\"/></a>"
      ]
    },
    {
      "cell_type": "markdown",
      "source": [
        "## insert element on index 2 in list\n"
      ],
      "metadata": {
        "id": "0oyrZh73gHrZ"
      }
    },
    {
      "cell_type": "code",
      "source": [
        "l1=[\"java\",\"php\",\".net\",\"angular\"]\n",
        "l1.insert(2,\"python\")\n",
        "print(\"updated list: \",l1)"
      ],
      "metadata": {
        "colab": {
          "base_uri": "https://localhost:8080/"
        },
        "id": "f-WLqwjvgM9g",
        "outputId": "75c4277b-2063-459c-9fcb-dbfcbb0eeb15"
      },
      "execution_count": 2,
      "outputs": [
        {
          "output_type": "stream",
          "name": "stdout",
          "text": [
            "updated list:  ['java', 'php', 'python', '.net', 'angular']\n"
          ]
        }
      ]
    }
  ]
}