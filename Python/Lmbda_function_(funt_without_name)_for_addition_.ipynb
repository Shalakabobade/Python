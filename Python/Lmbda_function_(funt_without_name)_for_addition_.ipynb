{
  "nbformat": 4,
  "nbformat_minor": 0,
  "metadata": {
    "colab": {
      "provenance": [],
      "authorship_tag": "ABX9TyOsZEhNNC8juU2vZIXEX6xk",
      "include_colab_link": true
    },
    "kernelspec": {
      "name": "python3",
      "display_name": "Python 3"
    },
    "language_info": {
      "name": "python"
    }
  },
  "cells": [
    {
      "cell_type": "markdown",
      "metadata": {
        "id": "view-in-github",
        "colab_type": "text"
      },
      "source": [
        "<a href=\"https://colab.research.google.com/github/Shalakabobade/Python/blob/main/Python/Lmbda_function_(funt_without_name)_for_addition_.ipynb\" target=\"_parent\"><img src=\"https://colab.research.google.com/assets/colab-badge.svg\" alt=\"Open In Colab\"/></a>"
      ]
    },
    {
      "cell_type": "markdown",
      "source": [
        "## Lmbda function/(funt without name) for addition\n"
      ],
      "metadata": {
        "id": "0oyrZh73gHrZ"
      }
    },
    {
      "cell_type": "code",
      "source": [
        "x=lambda a,b : a+b ## created anomymous function\n",
        "print(x(7,8))\n",
        "\n",
        "\n",
        "\n"
      ],
      "metadata": {
        "colab": {
          "base_uri": "https://localhost:8080/"
        },
        "id": "f-WLqwjvgM9g",
        "outputId": "ceb1bb51-16d3-4a80-cccd-ca4d8f1dd3aa"
      },
      "execution_count": 20,
      "outputs": [
        {
          "output_type": "stream",
          "name": "stdout",
          "text": [
            "15\n"
          ]
        }
      ]
    }
  ]
}