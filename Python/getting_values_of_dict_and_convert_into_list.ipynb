{
  "nbformat": 4,
  "nbformat_minor": 0,
  "metadata": {
    "colab": {
      "provenance": [],
      "authorship_tag": "ABX9TyNvGDhWCPhCwAJH2aBEOscc",
      "include_colab_link": true
    },
    "kernelspec": {
      "name": "python3",
      "display_name": "Python 3"
    },
    "language_info": {
      "name": "python"
    }
  },
  "cells": [
    {
      "cell_type": "markdown",
      "metadata": {
        "id": "view-in-github",
        "colab_type": "text"
      },
      "source": [
        "<a href=\"https://colab.research.google.com/github/Shalakabobade/Python/blob/main/Python/getting_values_of_dict_and_convert_into_list.ipynb\" target=\"_parent\"><img src=\"https://colab.research.google.com/assets/colab-badge.svg\" alt=\"Open In Colab\"/></a>"
      ]
    },
    {
      "cell_type": "markdown",
      "source": [
        "## getting values of dict and convert into list\n"
      ],
      "metadata": {
        "id": "0oyrZh73gHrZ"
      }
    },
    {
      "cell_type": "code",
      "source": [
        "d={1:\"Apple\",2:\"Banana\",3:\"Mango\"}\n",
        "k=d.values()\n",
        "print(\"values of dict: \",k)\n",
        "y=list(k)\n",
        "print (\"list: \",y)\n",
        "\n"
      ],
      "metadata": {
        "colab": {
          "base_uri": "https://localhost:8080/"
        },
        "id": "f-WLqwjvgM9g",
        "outputId": "93b80ba2-a740-4a5e-b35a-e64f7ffd3667"
      },
      "execution_count": 19,
      "outputs": [
        {
          "output_type": "stream",
          "name": "stdout",
          "text": [
            "values of dict:  dict_values(['Apple', 'Banana', 'Mango'])\n",
            "list:  ['Apple', 'Banana', 'Mango']\n"
          ]
        }
      ]
    }
  ]
}