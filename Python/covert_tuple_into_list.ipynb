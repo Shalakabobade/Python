{
  "nbformat": 4,
  "nbformat_minor": 0,
  "metadata": {
    "colab": {
      "provenance": [],
      "authorship_tag": "ABX9TyNUBrWrR+YIuHWePKcfPZzF",
      "include_colab_link": true
    },
    "kernelspec": {
      "name": "python3",
      "display_name": "Python 3"
    },
    "language_info": {
      "name": "python"
    }
  },
  "cells": [
    {
      "cell_type": "markdown",
      "metadata": {
        "id": "view-in-github",
        "colab_type": "text"
      },
      "source": [
        "<a href=\"https://colab.research.google.com/github/Shalakabobade/Python/blob/main/Python/covert_tuple_into_list.ipynb\" target=\"_parent\"><img src=\"https://colab.research.google.com/assets/colab-badge.svg\" alt=\"Open In Colab\"/></a>"
      ]
    },
    {
      "cell_type": "markdown",
      "source": [
        "## covert tuple into list\n"
      ],
      "metadata": {
        "id": "0oyrZh73gHrZ"
      }
    },
    {
      "cell_type": "code",
      "source": [
        "t=(\"python\",1,2,3,\"java\",'A','B')\n",
        "print (list(t))"
      ],
      "metadata": {
        "colab": {
          "base_uri": "https://localhost:8080/"
        },
        "id": "f-WLqwjvgM9g",
        "outputId": "85734722-2046-406e-ee3c-b348751351b1"
      },
      "execution_count": 7,
      "outputs": [
        {
          "output_type": "stream",
          "name": "stdout",
          "text": [
            "['python', 1, 2, 3, 'java', 'A', 'B']\n"
          ]
        }
      ]
    }
  ]
}